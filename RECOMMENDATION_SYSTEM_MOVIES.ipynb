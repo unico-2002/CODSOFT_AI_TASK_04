{
  "nbformat": 4,
  "nbformat_minor": 0,
  "metadata": {
    "colab": {
      "provenance": []
    },
    "kernelspec": {
      "name": "python3",
      "display_name": "Python 3"
    },
    "language_info": {
      "name": "python"
    }
  },
  "cells": [
    {
      "cell_type": "markdown",
      "source": [
        "Load and Explore the Data"
      ],
      "metadata": {
        "id": "ISrZwY--q7rh"
      }
    },
    {
      "cell_type": "code",
      "source": [
        "import pandas as pd\n",
        "\n",
        "# Load datasets\n",
        "movies = pd.read_csv('/content/movies.csv')\n",
        "ratings = pd.read_csv('/content/ratings.csv')\n",
        "tags = pd.read_csv('/content/tags.csv')\n",
        "links = pd.read_csv('/content/links.csv')\n",
        "\n",
        "print(\"Movies DataFrame:\")\n",
        "print(movies.head())\n",
        "\n",
        "print(\"\\nRatings DataFrame:\")\n",
        "print(ratings.head())\n",
        "\n",
        "print(\"\\nTags DataFrame:\")\n",
        "print(tags.head())\n",
        "\n",
        "print(\"\\nLinks DataFrame:\")\n",
        "print(links.head())\n"
      ],
      "metadata": {
        "colab": {
          "base_uri": "https://localhost:8080/"
        },
        "id": "xHmIt9x8q5Fj",
        "outputId": "bd4cd643-1e02-42b9-82b1-7efe0b811885"
      },
      "execution_count": 42,
      "outputs": [
        {
          "output_type": "stream",
          "name": "stdout",
          "text": [
            "Movies DataFrame:\n",
            "   movieId                               title  \\\n",
            "0        1                    Toy Story (1995)   \n",
            "1        2                      Jumanji (1995)   \n",
            "2        3             Grumpier Old Men (1995)   \n",
            "3        4            Waiting to Exhale (1995)   \n",
            "4        5  Father of the Bride Part II (1995)   \n",
            "\n",
            "                                        genres  \n",
            "0  Adventure|Animation|Children|Comedy|Fantasy  \n",
            "1                   Adventure|Children|Fantasy  \n",
            "2                               Comedy|Romance  \n",
            "3                         Comedy|Drama|Romance  \n",
            "4                                       Comedy  \n",
            "\n",
            "Ratings DataFrame:\n",
            "   userId  movieId  rating  timestamp\n",
            "0       1        1     4.0  964982703\n",
            "1       1        3     4.0  964981247\n",
            "2       1        6     4.0  964982224\n",
            "3       1       47     5.0  964983815\n",
            "4       1       50     5.0  964982931\n",
            "\n",
            "Tags DataFrame:\n",
            "   userId  movieId              tag   timestamp\n",
            "0       2    60756            funny  1445714994\n",
            "1       2    60756  Highly quotable  1445714996\n",
            "2       2    60756     will ferrell  1445714992\n",
            "3       2    89774     Boxing story  1445715207\n",
            "4       2    89774              MMA  1445715200\n",
            "\n",
            "Links DataFrame:\n",
            "   movieId  imdbId   tmdbId\n",
            "0        1  114709    862.0\n",
            "1        2  113497   8844.0\n",
            "2        3  113228  15602.0\n",
            "3        4  114885  31357.0\n",
            "4        5  113041  11862.0\n"
          ]
        }
      ]
    },
    {
      "cell_type": "markdown",
      "source": [
        "Preprocess the Data"
      ],
      "metadata": {
        "id": "JJn3ceejrT61"
      }
    },
    {
      "cell_type": "code",
      "source": [
        "user_item_matrix = ratings.pivot(index='userId', columns='movieId', values='rating')\n",
        "user_item_matrix.fillna(0, inplace=True)\n",
        "\n",
        "print(user_item_matrix.head())"
      ],
      "metadata": {
        "colab": {
          "base_uri": "https://localhost:8080/"
        },
        "id": "MEcE1QIbrJAv",
        "outputId": "98c5f67a-6db3-48b9-8234-4f223b247973"
      },
      "execution_count": 43,
      "outputs": [
        {
          "output_type": "stream",
          "name": "stdout",
          "text": [
            "movieId  1       2       3       4       5       6       7       8       \\\n",
            "userId                                                                    \n",
            "1           4.0     0.0     4.0     0.0     0.0     4.0     0.0     0.0   \n",
            "2           0.0     0.0     0.0     0.0     0.0     0.0     0.0     0.0   \n",
            "3           0.0     0.0     0.0     0.0     0.0     0.0     0.0     0.0   \n",
            "4           0.0     0.0     0.0     0.0     0.0     0.0     0.0     0.0   \n",
            "5           4.0     0.0     0.0     0.0     0.0     0.0     0.0     0.0   \n",
            "\n",
            "movieId  9       10      ...  193565  193567  193571  193573  193579  193581  \\\n",
            "userId                   ...                                                   \n",
            "1           0.0     0.0  ...     0.0     0.0     0.0     0.0     0.0     0.0   \n",
            "2           0.0     0.0  ...     0.0     0.0     0.0     0.0     0.0     0.0   \n",
            "3           0.0     0.0  ...     0.0     0.0     0.0     0.0     0.0     0.0   \n",
            "4           0.0     0.0  ...     0.0     0.0     0.0     0.0     0.0     0.0   \n",
            "5           0.0     0.0  ...     0.0     0.0     0.0     0.0     0.0     0.0   \n",
            "\n",
            "movieId  193583  193585  193587  193609  \n",
            "userId                                   \n",
            "1           0.0     0.0     0.0     0.0  \n",
            "2           0.0     0.0     0.0     0.0  \n",
            "3           0.0     0.0     0.0     0.0  \n",
            "4           0.0     0.0     0.0     0.0  \n",
            "5           0.0     0.0     0.0     0.0  \n",
            "\n",
            "[5 rows x 9724 columns]\n"
          ]
        }
      ]
    },
    {
      "cell_type": "markdown",
      "source": [
        "Build the Recommendation System"
      ],
      "metadata": {
        "id": "k6qvlyM5reTG"
      }
    },
    {
      "cell_type": "code",
      "source": [
        "import pandas as pd\n",
        "from scipy.sparse.linalg import svds\n",
        "import numpy as np\n",
        "\n",
        "user_ratings_mean = user_item_matrix.mean(axis=1)\n",
        "user_item_matrix_normalized = user_item_matrix.sub(user_ratings_mean, axis=0)\n",
        "\n",
        "user_item_matrix_normalized_array = user_item_matrix_normalized.to_numpy()\n",
        "\n",
        "U, sigma, Vt = svds(user_item_matrix_normalized_array, k=50)  # Use the array here\n",
        "\n",
        "sigma = np.diag(sigma)\n",
        "\n",
        "all_user_predicted_ratings = np.dot(np.dot(U, sigma), Vt) + user_ratings_mean.values.reshape(-1, 1)\n",
        "predicted_ratings = pd.DataFrame(all_user_predicted_ratings, columns=user_item_matrix.columns)\n",
        "\n",
        "print(predicted_ratings.head())"
      ],
      "metadata": {
        "colab": {
          "base_uri": "https://localhost:8080/"
        },
        "id": "FwXqorpyrVyG",
        "outputId": "4f6a3293-955a-41e3-e0eb-596435f4a3ce"
      },
      "execution_count": 45,
      "outputs": [
        {
          "output_type": "stream",
          "name": "stdout",
          "text": [
            "movieId    1         2         3         4         5         6         7       \\\n",
            "0        2.167328  0.402751  0.840184 -0.076281 -0.551337  2.504091 -0.890114   \n",
            "1        0.211459  0.006658  0.033455  0.017419  0.183430 -0.062473  0.083037   \n",
            "2        0.003588  0.030518  0.046393  0.008176 -0.006247  0.107328 -0.012416   \n",
            "3        2.051549 -0.387104 -0.252199  0.087562  0.130465  0.270210  0.477835   \n",
            "4        1.344738  0.778511  0.065749  0.111744  0.273144  0.584426  0.254930   \n",
            "\n",
            "movieId    8         9         10      ...    193565    193567    193571  \\\n",
            "0       -0.026443  0.196974  1.593259  ... -0.023453 -0.019967 -0.026939   \n",
            "1        0.024158  0.049330 -0.152530  ...  0.019498  0.016777  0.022219   \n",
            "2        0.003779  0.007297 -0.059362  ...  0.005909  0.006209  0.005610   \n",
            "3        0.040313  0.025858 -0.017365  ...  0.004836  0.004172  0.005500   \n",
            "4        0.128788 -0.085541  1.023455  ... -0.008042 -0.007419 -0.008664   \n",
            "\n",
            "movieId    193573    193579    193581    193583    193585    193587    193609  \n",
            "0       -0.026939 -0.023453 -0.026939 -0.023453 -0.023453 -0.023453 -0.058732  \n",
            "1        0.022219  0.019498  0.022219  0.019498  0.019498  0.019498  0.032281  \n",
            "2        0.005610  0.005909  0.005610  0.005909  0.005909  0.005909  0.008004  \n",
            "3        0.005500  0.004836  0.005500  0.004836  0.004836  0.004836 -0.023311  \n",
            "4       -0.008664 -0.008042 -0.008664 -0.008042 -0.008042 -0.008042 -0.010127  \n",
            "\n",
            "[5 rows x 9724 columns]\n"
          ]
        }
      ]
    },
    {
      "cell_type": "markdown",
      "source": [
        "Recommend Movies"
      ],
      "metadata": {
        "id": "gtyJLwaVsFC1"
      }
    },
    {
      "cell_type": "code",
      "source": [
        "def recommend_movies(predictions_df, user_id, movies_df, original_ratings_df, num_recommendations=10):\n",
        "    # Get and sort the user's predicted ratings\n",
        "    user_row_number = user_id - 1  # User ID starts at 1, not 0\n",
        "    sorted_user_predictions = predictions_df.iloc[user_row_number].sort_values(ascending=False)\n",
        "\n",
        "    # Get the user's data and merge with the movies dataframe\n",
        "    user_data = original_ratings_df[original_ratings_df.userId == user_id]\n",
        "    user_full = (user_data.merge(movies_df, how='left', left_on='movieId', right_on='movieId').\n",
        "                 sort_values(['rating'], ascending=False))\n",
        "\n",
        "    print('User {0} has already rated {1} movies.'.format(user_id, user_full.shape[0]))\n",
        "    print('Recommending the highest {0} predicted rating movies not already rated.'.format(num_recommendations))\n",
        "\n",
        "    # Recommend the highest predicted rating movies that the user hasn't seen yet\n",
        "    recommendations = (movies_df[~movies_df['movieId'].isin(user_full['movieId'])].\n",
        "                        merge(pd.DataFrame(sorted_user_predictions).reset_index(), how='left',\n",
        "                              left_on='movieId',\n",
        "                              right_on='movieId').\n",
        "                        rename(columns={user_row_number: 'PredictedRating'}).\n",
        "                        sort_values('PredictedRating', ascending=False).\n",
        "                        iloc[:num_recommendations, :-1])\n",
        "\n",
        "    return user_full, recommendations\n",
        "\n",
        "# Recommend movies for user 1\n",
        "already_rated, predictions = recommend_movies(predicted_ratings, 1, movies, ratings, 10)\n",
        "\n",
        "print(\"\\nMovies already rated by the user:\")\n",
        "print(already_rated)\n",
        "\n",
        "print(\"\\nTop 10 movie recommendations for the user:\")\n",
        "print(predictions)\n"
      ],
      "metadata": {
        "colab": {
          "base_uri": "https://localhost:8080/"
        },
        "id": "SAgeilWkrlRh",
        "outputId": "a3b70888-e38f-43b7-93a6-b1440c01186a"
      },
      "execution_count": 46,
      "outputs": [
        {
          "output_type": "stream",
          "name": "stdout",
          "text": [
            "User 1 has already rated 232 movies.\n",
            "Recommending the highest 10 predicted rating movies not already rated.\n",
            "\n",
            "Movies already rated by the user:\n",
            "     userId  movieId  rating  timestamp  \\\n",
            "231       1     5060     5.0  964984002   \n",
            "185       1     2872     5.0  964981680   \n",
            "89        1     1291     5.0  964981909   \n",
            "90        1     1298     5.0  964984086   \n",
            "190       1     2948     5.0  964982191   \n",
            "..      ...      ...     ...        ...   \n",
            "170       1     2617     2.0  964982588   \n",
            "143       1     2253     2.0  964981775   \n",
            "148       1     2338     2.0  964983546   \n",
            "152       1     2389     2.0  964983094   \n",
            "205       1     3176     1.0  964983504   \n",
            "\n",
            "                                            title  \\\n",
            "231                  M*A*S*H (a.k.a. MASH) (1970)   \n",
            "185                              Excalibur (1981)   \n",
            "89      Indiana Jones and the Last Crusade (1989)   \n",
            "90                    Pink Floyd: The Wall (1982)   \n",
            "190                  From Russia with Love (1963)   \n",
            "..                                            ...   \n",
            "170                             Mummy, The (1999)   \n",
            "143                                   Toys (1992)   \n",
            "148  I Still Know What You Did Last Summer (1998)   \n",
            "152                                 Psycho (1998)   \n",
            "205               Talented Mr. Ripley, The (1999)   \n",
            "\n",
            "                                              genres  \n",
            "231                                 Comedy|Drama|War  \n",
            "185                                Adventure|Fantasy  \n",
            "89                                  Action|Adventure  \n",
            "90                                     Drama|Musical  \n",
            "190                        Action|Adventure|Thriller  \n",
            "..                                               ...  \n",
            "170  Action|Adventure|Comedy|Fantasy|Horror|Thriller  \n",
            "143                                   Comedy|Fantasy  \n",
            "148                          Horror|Mystery|Thriller  \n",
            "152                            Crime|Horror|Thriller  \n",
            "205                           Drama|Mystery|Thriller  \n",
            "\n",
            "[232 rows x 6 columns]\n",
            "\n",
            "Top 10 movie recommendations for the user:\n",
            "      movieId                           title  \\\n",
            "736      1036                 Die Hard (1988)   \n",
            "844      1221  Godfather: Part II, The (1974)   \n",
            "974      1387                     Jaws (1975)   \n",
            "615       858           Godfather, The (1972)   \n",
            "1328     1968      Breakfast Club, The (1985)   \n",
            "874      1259              Stand by Me (1986)   \n",
            "1927     2804       Christmas Story, A (1983)   \n",
            "1416     2080       Lady and the Tramp (1955)   \n",
            "2765     4011                   Snatch (2000)   \n",
            "1417     2081      Little Mermaid, The (1989)   \n",
            "\n",
            "                                         genres  \n",
            "736                       Action|Crime|Thriller  \n",
            "844                                 Crime|Drama  \n",
            "974                               Action|Horror  \n",
            "615                                 Crime|Drama  \n",
            "1328                               Comedy|Drama  \n",
            "874                             Adventure|Drama  \n",
            "1927                            Children|Comedy  \n",
            "1416          Animation|Children|Comedy|Romance  \n",
            "2765                      Comedy|Crime|Thriller  \n",
            "1417  Animation|Children|Comedy|Musical|Romance  \n"
          ]
        }
      ]
    }
  ]
}